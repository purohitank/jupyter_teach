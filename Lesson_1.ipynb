{
 "cells": [
  {
   "cell_type": "markdown",
   "metadata": {},
   "source": [
    "**Introduction**\n",
    "\n",
    "Hi. Thank you for joining us for today's lesson. Your enthusiasm and curiosity is highly appreciated. In today's lesson, we will dip our toes in the world of programming and start of with very simple examples. \n",
    "\n",
    "The interface that you are seeing is called Jupyter and it is useful for us to write small sections of code and test it out at the same time. The language that we are going to learn to code in is called Python. We are going to use it cause the syntax is simple and easier to understand. So, without further ado, lets get coding! :)"
   ]
  },
  {
   "cell_type": "markdown",
   "metadata": {},
   "source": [
    "**Example 1**\n",
    "\n",
    "Here we have written a simple program to add two numbers. You have to just input two numbers and their sum will be computed for you. I know it is pretty straight forward, but as we said, it is only toe dipping!"
   ]
  },
  {
   "cell_type": "code",
   "execution_count": 1,
   "metadata": {
    "hideCode": true,
    "hideOutput": true,
    "hidePrompt": true
   },
   "outputs": [],
   "source": [
    "import ipywidgets as widgets\n",
    "from IPython.display import display, clear_output"
   ]
  },
  {
   "cell_type": "markdown",
   "metadata": {},
   "source": [
    "Function definition"
   ]
  },
  {
   "cell_type": "code",
   "execution_count": 2,
   "metadata": {
    "hideOutput": false
   },
   "outputs": [],
   "source": [
    "def add(x, y):\n",
    "    \n",
    "    return x+y"
   ]
  },
  {
   "cell_type": "code",
   "execution_count": 3,
   "metadata": {
    "hideCode": true,
    "hideOutput": true,
    "hidePrompt": true
   },
   "outputs": [],
   "source": [
    "textbox1 = widgets.IntText(\n",
    "    value=0,\n",
    "    description='Value 1:',\n",
    "    disabled=False\n",
    ")\n",
    "\n",
    "textbox2 = widgets.IntText(\n",
    "    value=0,\n",
    "    description='Value 2:',\n",
    "    disabled=False\n",
    ")    "
   ]
  },
  {
   "cell_type": "code",
   "execution_count": 4,
   "metadata": {
    "hideCode": true,
    "hideOutput": true,
    "hidePrompt": true
   },
   "outputs": [],
   "source": [
    "def response(change):\n",
    "    \n",
    "    a = textbox1.value\n",
    "    b = textbox2.value\n",
    "    \n",
    "    res = add(a, b)\n",
    "    \n",
    "    textbox3.value = res\n",
    "    \n",
    "# textbox1.observe(response, names=\"value\")\n",
    "# textbox2.observe(response, names=\"value\")\n",
    "# textbox3.observe(response, names=\"value\")\n",
    "\n",
    "button1 = widgets.Button(\n",
    "    description='Calculate',\n",
    "    disabled=False,\n",
    "    button_style='', # 'success', 'info', 'warning', 'danger' or ''\n",
    "    tooltip='Calculate',\n",
    "    icon='check' # (FontAwesome names without the `fa-` prefix)\n",
    ")\n",
    "\n",
    "output1 = widgets.Output()\n",
    "\n",
    "def on_button_clicked(_):\n",
    "    with output1:\n",
    "        clear_output()\n",
    "        a = textbox1.value\n",
    "        b = textbox2.value\n",
    "        c = add(a, b)\n",
    "        print(\"Result is : %d\" % c)\n",
    "        \n",
    "button1.on_click(on_button_clicked)"
   ]
  },
  {
   "cell_type": "code",
   "execution_count": 5,
   "metadata": {
    "hideCode": true,
    "hideOutput": false,
    "hidePrompt": true
   },
   "outputs": [
    {
     "data": {
      "application/vnd.jupyter.widget-view+json": {
       "model_id": "86a2cdeb73bd4ce391730b8dd74451f2",
       "version_major": 2,
       "version_minor": 0
      },
      "text/plain": [
       "VBox(children=(HBox(children=(IntText(value=0, description='Value 1:'), IntText(value=0, description='Value 2:…"
      ]
     },
     "metadata": {},
     "output_type": "display_data"
    }
   ],
   "source": [
    "display(widgets.VBox([widgets.HBox([textbox1, textbox2, button1]), output1]))\n"
   ]
  }
 ],
 "metadata": {
  "celltoolbar": "Hide code",
  "kernelspec": {
   "display_name": "Python 3",
   "language": "python",
   "name": "python3"
  },
  "language_info": {
   "codemirror_mode": {
    "name": "ipython",
    "version": 3
   },
   "file_extension": ".py",
   "mimetype": "text/x-python",
   "name": "python",
   "nbconvert_exporter": "python",
   "pygments_lexer": "ipython3",
   "version": "3.8.5"
  }
 },
 "nbformat": 4,
 "nbformat_minor": 4
}
